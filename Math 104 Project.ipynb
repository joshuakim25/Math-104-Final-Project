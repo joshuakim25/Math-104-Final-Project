{
 "cells": [
  {
   "cell_type": "code",
   "execution_count": null,
   "id": "1be15205",
   "metadata": {},
   "outputs": [],
   "source": [
    "import numpy as np\n",
    "import pandas as pd\n",
    "\n",
    "filename = \"/Users/joshkim/Desktop/math 104/dataset/ydata-ymusic-user-artist-ratings-v1_0.txt\"\n",
    "filename2 = \"/Users/joshkim/Desktop/math 104/dataset/ydata-ymusic-artist-names-v1_0.txt\""
   ]
  },
  {
   "cell_type": "code",
   "execution_count": null,
   "id": "b38b3b63",
   "metadata": {},
   "outputs": [],
   "source": [
    "# This reads the file with artist ratings, artist id, and user id\n",
    "df = pd.read_csv(filename, sep = '\\s+', header = None)"
   ]
  },
  {
   "cell_type": "code",
   "execution_count": null,
   "id": "220a58b5",
   "metadata": {},
   "outputs": [],
   "source": [
    "# This reads the file with artist id and artist names\n",
    "df2 = pd.read_csv(filename2, sep = '\\t', header = None, encoding='latin-1')\n",
    "print(df2.head())\n",
    "print(df2.shape[0])"
   ]
  },
  {
   "cell_type": "code",
   "execution_count": null,
   "id": "f588d674",
   "metadata": {},
   "outputs": [],
   "source": [
    "print(df.head())\n",
    "print(df.shape[0])\n",
    "print(df.shape[0] * df.shape[1])"
   ]
  },
  {
   "cell_type": "code",
   "execution_count": null,
   "id": "0dd552f7",
   "metadata": {
    "scrolled": false
   },
   "outputs": [],
   "source": [
    "# Look for users who have reviewed more than 50 artists\n",
    "# usercount = df[[1, 0]].groupby(0).count()\n",
    "# usercount = usercount[usercount[1] >= 50]\n",
    "# print(usercount.head())\n"
   ]
  },
  {
   "cell_type": "code",
   "execution_count": null,
   "id": "82ce5761",
   "metadata": {
    "scrolled": true
   },
   "outputs": [],
   "source": [
    "# Look for artists reviewed by more than 50 users\n",
    "\n",
    "# artistcount = df[[1,0]].groupby(1).count()\n",
    "# artistcount = artistcount[artistcount[0] >= 50]\n",
    "# print(artistcount.head())"
   ]
  },
  {
   "cell_type": "code",
   "execution_count": null,
   "id": "284cabae",
   "metadata": {
    "scrolled": true
   },
   "outputs": [],
   "source": [
    "# Keep only the popular artists and users\n",
    "# df = df[df[0].isin(usercount.index)] & df[1].isin(artistcount.index)]\n",
    "print(df)\n",
    "print(df.shape[0])\n",
    "print(df.shape[0] * df.shape[1])\n",
    "# Keep only a segment of the data (can't do the whole thing jupyter won't allow)\n",
    "df = df[0:100000]"
   ]
  },
  {
   "cell_type": "code",
   "execution_count": null,
   "id": "4c356abb",
   "metadata": {},
   "outputs": [],
   "source": [
    "# This creates a matrix with the users representing the columns and the artists representing the rows with \n",
    "df = df.pivot(index = 1, columns = 0, values = 2)\n",
    "# This fills all of the NaN slots with 0s\n",
    "df = df.fillna(0)\n",
    "print(df)"
   ]
  },
  {
   "cell_type": "code",
   "execution_count": null,
   "id": "6fb2c2f1",
   "metadata": {},
   "outputs": [],
   "source": [
    "# This calculates the RSVD of the Ratings Matrix\n",
    "U, S, V = np.linalg.svd(df, full_matrices = False)"
   ]
  },
  {
   "cell_type": "code",
   "execution_count": null,
   "id": "2d836b6f",
   "metadata": {},
   "outputs": [],
   "source": [
    "# This constructs a low rank approximation Matrix with the new Sigma being the first k singular values\n",
    "k=10\n",
    "Sigma = np.diag(S[:k])\n",
    "# Computes the low rank approximation of A using the first k singular values\n",
    "A_lowrank = U[:, :k] @ Sigma @ V[:k, :]\n",
    "U = U[:, :k]\n",
    "V = V[:k, :]"
   ]
  },
  {
   "cell_type": "code",
   "execution_count": null,
   "id": "fa0f933f",
   "metadata": {},
   "outputs": [],
   "source": [
    "# Get the number of rows in A_lowrank\n",
    "m = A_lowrank.shape[0]\n",
    "print(m)"
   ]
  },
  {
   "cell_type": "code",
   "execution_count": null,
   "id": "290b3da5",
   "metadata": {},
   "outputs": [],
   "source": [
    "# Create a vector of zeros with length equal to the number of rows in A\n"
   ]
  },
  {
   "cell_type": "code",
   "execution_count": null,
   "id": "2d7e7b11",
   "metadata": {
    "scrolled": true
   },
   "outputs": [],
   "source": [
    "# Vector of artists that I like - sourced from Apple Music Wrapped\n",
    "v = [\"Kanye West\", \"David Bowie\", \"Red Hot Chili Peppers\", \"Train\", \"The Beatles\", \"Led Zeppelin\", \"Jay-Z\", \"Maroon 5\", \"Jason Mraz\", \"Queen\"]\n",
    "indices = []\n",
    "\n",
    "# Searches through the artist list and finds indices\n",
    "for i in range(len(v)):\n",
    "    for j in range(2,97956):\n",
    "        if df2.iloc[j][1]== v[i]:\n",
    "            print (j, df2.iloc[j][1])\n",
    "            indices.append(j)\n",
    "print(indices)\n",
    "\n",
    "# Column with all of the \n",
    "Artists = list(df.index)\n",
    "print(Artists)\n",
    "for i in range(len(Artists)):\n",
    "    if(Artists[i] not in indices):\n",
    "        Artists[i] = 0\n",
    "    if (Artists[i] in indices):\n",
    "        Artists[i] = 100\n",
    "print(Artists)\n",
    "\n",
    "    \n",
    "    "
   ]
  },
  {
   "cell_type": "code",
   "execution_count": null,
   "id": "a496e8da",
   "metadata": {
    "scrolled": false
   },
   "outputs": [],
   "source": [
    "# This puts the new vector in terms of Rk\n",
    "# Compute the inverse of S\n",
    "\n",
    "S_inv = np.linalg.inv(Sigma)\n",
    "u = np.array(Artists)\n",
    "# Compute the matrix product u' = u^T * U * S^-1\n",
    "u_prime = u.T @ U @ S_inv"
   ]
  },
  {
   "cell_type": "code",
   "execution_count": null,
   "id": "13ea19b3",
   "metadata": {
    "scrolled": true
   },
   "outputs": [],
   "source": [
    "# Check the similarities\n",
    "def cosine_similarity(v,u):\n",
    "    return (v @ u)/ (np.linalg.norm(v) * np.linalg.norm(u))\n",
    " \n",
    "highest_similarity = -np.inf\n",
    "highest_sim_col = -1\n",
    "for col in range(1,V.shape[1]):\n",
    "    similarity = cosine_similarity(V[:,0], V[:,col])\n",
    "    if similarity > highest_similarity:\n",
    "        highest_similarity = similarity\n",
    "        highest_sim_col = col\n",
    " \n",
    "print(\"Column %d (Artist id %s) is most similar to column 0 (Artist id %s)\" %\n",
    "        (highest_sim_col, A_lowrank.columns[col], A_lowrank.columns[0])\n",
    ")"
   ]
  },
  {
   "cell_type": "code",
   "execution_count": null,
   "id": "a5a3baaf",
   "metadata": {},
   "outputs": [],
   "source": []
  },
  {
   "cell_type": "code",
   "execution_count": null,
   "id": "c969ce31",
   "metadata": {},
   "outputs": [],
   "source": []
  }
 ],
 "metadata": {
  "kernelspec": {
   "display_name": "Python 3 (ipykernel)",
   "language": "python",
   "name": "python3"
  },
  "language_info": {
   "codemirror_mode": {
    "name": "ipython",
    "version": 3
   },
   "file_extension": ".py",
   "mimetype": "text/x-python",
   "name": "python",
   "nbconvert_exporter": "python",
   "pygments_lexer": "ipython3",
   "version": "3.9.13"
  }
 },
 "nbformat": 4,
 "nbformat_minor": 5
}
